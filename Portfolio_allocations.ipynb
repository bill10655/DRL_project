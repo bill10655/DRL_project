{
 "cells": [
  {
   "cell_type": "code",
   "execution_count": null,
   "metadata": {
    "id": "ntfTb0e2bU4C"
   },
   "outputs": [],
   "source": [
    "import warnings\n",
    "warnings.filterwarnings('ignore')\n",
    "\n",
    "import math\n",
    "import random\n",
    "import datetime\n",
    "\n",
    "import numpy as np\n",
    "import pandas as pd\n",
    "from scipy.special import softmax\n",
    "\n",
    "import matplotlib\n",
    "import matplotlib.pyplot as plt\n",
    "matplotlib.use('Agg')\n",
    "\n",
    "from gym.utils import seeding\n",
    "import gym\n",
    "from gym import spaces\n",
    "\n",
    "from stable_baselines3.common.vec_env import DummyVecEnv\n",
    "from stable_baselines3 import DDPG\n",
    "from stable_baselines3 import SAC"
   ]
  },
  {
   "cell_type": "markdown",
   "metadata": {
    "id": "zoine85fwi_5"
   },
   "source": [
    "## Data"
   ]
  },
  {
   "cell_type": "code",
   "execution_count": null,
   "metadata": {
    "id": "ErjOonjCNWQu"
   },
   "outputs": [],
   "source": [
    "df = pd.read_csv(\"./data/data0605.csv\")"
   ]
  },
  {
   "cell_type": "code",
   "execution_count": null,
   "metadata": {
    "id": "7Ax_TjBp-8SQ"
   },
   "outputs": [],
   "source": [
    "fea = pd.read_csv(\"./data/features0606.csv\")"
   ]
  },
  {
   "cell_type": "code",
   "execution_count": null,
   "metadata": {},
   "outputs": [],
   "source": [
    "sen =  pd.read_csv(\"./data/sentiment_sum.csv\")"
   ]
  },
  {
   "cell_type": "code",
   "execution_count": null,
   "metadata": {},
   "outputs": [],
   "source": [
    "sen[\"date\"] = pd.to_datetime(sen[\"date\"])\n",
    "df[\"date\"] = pd.to_datetime(df[\"date\"])\n",
    "fea[\"date\"] = pd.to_datetime(fea[\"date\"])"
   ]
  },
  {
   "cell_type": "code",
   "execution_count": null,
   "metadata": {},
   "outputs": [],
   "source": [
    "# same date\n",
    "date = fea[\"date\"]\n",
    "sen = sen[sen[\"date\"].isin(date)]\n",
    "sen = sen.reset_index()\n",
    "del sen[\"index\"]"
   ]
  },
  {
   "cell_type": "code",
   "execution_count": null,
   "metadata": {
    "id": "PKMT16xuBGWp"
   },
   "outputs": [],
   "source": [
    "# same date\n",
    "date = sen[\"date\"]\n",
    "df = df[df[\"date\"].isin(date)]\n",
    "df = df.reset_index()\n",
    "del df[\"index\"]"
   ]
  },
  {
   "cell_type": "code",
   "execution_count": null,
   "metadata": {},
   "outputs": [],
   "source": [
    "# same date\n",
    "date = sen[\"date\"]\n",
    "fea = fea[fea[\"date\"].isin(date)]\n",
    "fea = fea.reset_index()\n",
    "del fea[\"index\"]"
   ]
  },
  {
   "cell_type": "code",
   "execution_count": null,
   "metadata": {},
   "outputs": [],
   "source": [
    "# testing\n",
    "df2 = pd.read_csv(\"./test_data.csv\")"
   ]
  },
  {
   "cell_type": "code",
   "execution_count": null,
   "metadata": {},
   "outputs": [],
   "source": [
    "fea2 = pd.read_csv(\"./testing features.csv\")"
   ]
  },
  {
   "cell_type": "code",
   "execution_count": null,
   "metadata": {},
   "outputs": [],
   "source": [
    "# sen\n",
    "sen2 = pd.read_csv(\"./sentiment.csv\")\n",
    "sen2 = sen2[sen2[\"date\"] >= \"2019/1/1\"]"
   ]
  },
  {
   "cell_type": "code",
   "execution_count": null,
   "metadata": {},
   "outputs": [],
   "source": [
    "df2[\"date\"] = pd.to_datetime(df2[\"date\"])\n",
    "fea2[\"date\"] = pd.to_datetime(fea2[\"date\"])"
   ]
  },
  {
   "cell_type": "code",
   "execution_count": null,
   "metadata": {
    "colab": {
     "base_uri": "https://localhost:8080/",
     "height": 307
    },
    "id": "_Lbcbb-pSBx_",
    "outputId": "0d47a1d9-10ce-4253-b39f-34ef7e991f87"
   },
   "outputs": [],
   "source": [
    "# split\n",
    "train = df[df.date < \"2018-01-01\"]\n",
    "valid = df[df.date >= \"2018-01-01\"]\n",
    "valid = valid[valid.date < \"2019-01-01\"]\n",
    "test = df2\n",
    "train.columns = test.columns\n",
    "valid.columns = test.columns\n",
    "\n",
    "train = train.reset_index()\n",
    "del train[\"index\"]\n",
    "valid = valid.reset_index()\n",
    "del valid[\"index\"]"
   ]
  },
  {
   "cell_type": "code",
   "execution_count": null,
   "metadata": {
    "id": "JZibbmsoIiuW"
   },
   "outputs": [],
   "source": [
    "def pct(df):\n",
    "    df_1 = df.copy(deep=True)\n",
    "    df_3 = df.copy(deep=True)\n",
    "    df_5 = df.copy(deep=True)\n",
    "    df_1.iloc[:,1:11] = df_1.iloc[:,1:11].pct_change(periods=1)\n",
    "    df_3.iloc[:,1:11] = df_3.iloc[:,1:11].pct_change(periods=3)\n",
    "    df_5.iloc[:,1:11] = df_5.iloc[:,1:11].pct_change(periods=5)\n",
    "\n",
    "    df = pd.concat([df_1, df_3.iloc[:,1:], df_5.iloc[:,1:]], axis=1)\n",
    "    df = df.fillna(0.0)\n",
    "    return df"
   ]
  },
  {
   "cell_type": "code",
   "execution_count": null,
   "metadata": {
    "id": "csKNe_KiI3N2"
   },
   "outputs": [],
   "source": [
    "# percentage\n",
    "train = pct(train)\n",
    "valid = pct(valid)\n",
    "test = pct(test)"
   ]
  },
  {
   "cell_type": "code",
   "execution_count": null,
   "metadata": {
    "id": "UadUIwa2xUhu"
   },
   "outputs": [],
   "source": [
    "training_iterations = len(train)\n",
    "validation_iterations = len(valid)\n",
    "testing_iterations = len(test)\n",
    "print(training_iterations, validation_iterations, testing_iterations)"
   ]
  },
  {
   "cell_type": "markdown",
   "metadata": {
    "id": "cqq4_iZw-jTb"
   },
   "source": [
    "### Add Features"
   ]
  },
  {
   "cell_type": "code",
   "execution_count": null,
   "metadata": {
    "id": "9hwFihNHKT4D"
   },
   "outputs": [],
   "source": [
    "# mdd\n",
    "mdd = fea.iloc[:,41:51]\n",
    "train_mdd = mdd[:len(train)]\n",
    "valid_mdd = mdd[len(train):]\n",
    "valid_mdd = valid_mdd.reset_index()\n",
    "del valid_mdd[\"index\"]\n",
    "test_mdd = fea2.iloc[:,41:51]"
   ]
  },
  {
   "cell_type": "code",
   "execution_count": null,
   "metadata": {
    "id": "nT_k6SSqEGV6"
   },
   "outputs": [],
   "source": [
    "# dd\n",
    "dd = fea.iloc[:,31:41]\n",
    "train_dd = dd[:len(train)]\n",
    "valid_dd = dd[len(train):]\n",
    "valid_dd = valid_dd.reset_index()\n",
    "del valid_dd[\"index\"]\n",
    "test_dd = fea2.iloc[:,31:41]"
   ]
  },
  {
   "cell_type": "code",
   "execution_count": null,
   "metadata": {
    "id": "X0mGqKYUEcUi"
   },
   "outputs": [],
   "source": [
    "# rsi\n",
    "rsi = fea.iloc[:,21:31]\n",
    "train_rsi = rsi[:len(train)]\n",
    "valid_rsi = rsi[len(train):]\n",
    "valid_rsi = valid_rsi.reset_index()\n",
    "del valid_rsi[\"index\"]\n",
    "test_rsi = fea2.iloc[:,21:31]"
   ]
  },
  {
   "cell_type": "code",
   "execution_count": null,
   "metadata": {
    "id": "4CZlfQ8bfSiB"
   },
   "outputs": [],
   "source": [
    "# kv\n",
    "kv = fea.iloc[:,11:21]\n",
    "train_kv = kv[:len(train)]\n",
    "valid_kv = kv[len(train):]\n",
    "valid_kv = valid_kv.reset_index()\n",
    "del valid_kv[\"index\"]\n",
    "test_kv = fea2.iloc[:,11:21]"
   ]
  },
  {
   "cell_type": "code",
   "execution_count": null,
   "metadata": {
    "id": "aNWbbTasfYrY"
   },
   "outputs": [],
   "source": [
    "# dv\n",
    "dv = fea.iloc[:,1:11]\n",
    "train_dv = dv[:len(train)]\n",
    "valid_dv = dv[len(train):]\n",
    "valid_dv = valid_dv.reset_index()\n",
    "del valid_dv[\"index\"]\n",
    "test_dv = fea2.iloc[:,1:11]"
   ]
  },
  {
   "cell_type": "code",
   "execution_count": null,
   "metadata": {},
   "outputs": [],
   "source": [
    "# sen\n",
    "sen = sen.iloc[:,1:]\n",
    "train_sen = sen[:len(train)]\n",
    "valid_sen = sen[len(train):]\n",
    "valid_sen = valid_sen.reset_index()\n",
    "del valid_sen[\"index\"]\n",
    "test_sen = sen2.iloc[:,2:]"
   ]
  },
  {
   "cell_type": "code",
   "execution_count": null,
   "metadata": {
    "id": "zKl-RXB2VUyN"
   },
   "outputs": [],
   "source": [
    "train = pd.concat([train, train_mdd, train_dd, train_rsi, train_kv, train_dv, train_sen], axis=1).ffill().bfill()\n",
    "valid = pd.concat([valid, valid_mdd, valid_dd, valid_rsi, valid_kv, valid_dv, valid_sen], axis=1).ffill().bfill()\n",
    "test = pd.concat([test, test_mdd, test_dd, test_rsi, test_kv, test_dv, test_sen], axis=1).ffill().bfill()"
   ]
  },
  {
   "cell_type": "markdown",
   "metadata": {
    "id": "DSdDaJSs-WEb"
   },
   "source": [
    "### Transaction cost & others"
   ]
  },
  {
   "cell_type": "code",
   "execution_count": null,
   "metadata": {
    "colab": {
     "base_uri": "https://localhost:8080/"
    },
    "id": "vC7dxJOwpVSl",
    "outputId": "57b7f3a8-38c9-4cfe-9dcc-117e04dbe176"
   },
   "outputs": [],
   "source": [
    "key = train.columns[1:11]\n",
    "key"
   ]
  },
  {
   "cell_type": "code",
   "execution_count": null,
   "metadata": {
    "colab": {
     "base_uri": "https://localhost:8080/"
    },
    "id": "-o5q0IY4aCov",
    "outputId": "210a74f8-9258-4ae6-de8b-f3b576c0b295"
   },
   "outputs": [],
   "source": [
    "risk = {\"LU0082087783\": \"Bond\", \"TW000T2776A0\": \"Bond\", \"LU1061040777\": \"Bond\", \"LU0345759590\": \"Bond\", \"LU0082770016\": \"Equity\", \"TW000T3626C2\": \"Bond\", \"IE00B889SK00\": \"Bond\", \"LU1035775359\": \"Equity\", \"LU0149726845\": \"Equity\", \"TW000T3743D3\": \"Hybrid\"}\n",
    "rk = []\n",
    "for k in key:\n",
    "    if risk[k] == \"Bond\":\n",
    "        rk.append(0.01)\n",
    "    else:\n",
    "        rk.append(0.02)\n",
    "rk"
   ]
  },
  {
   "cell_type": "markdown",
   "metadata": {
    "id": "sxQTNjpblAMN"
   },
   "source": [
    "## Environment for Portfolio Allocation\n"
   ]
  },
  {
   "cell_type": "code",
   "execution_count": null,
   "metadata": {
    "id": "xlfE-VERbU40"
   },
   "outputs": [],
   "source": [
    "class StockPortfolioEnv(gym.Env):\n",
    "    \n",
    "    metadata = {'render.modes': ['human']}\n",
    "\n",
    "    def __init__(self, \n",
    "                df,\n",
    "                mdd,\n",
    "                initial_amount,\n",
    "                transaction_cost_pct,\n",
    "                stock_dim,\n",
    "                state_dim,\n",
    "                action_dim,\n",
    "                features_dim,\n",
    "                train,\n",
    "                key,\n",
    "                period,\n",
    "                day = 0):\n",
    "\n",
    "        # setting\n",
    "        self.day = day\n",
    "        self.mdd = mdd\n",
    "        self.key = key\n",
    "        self.period = period\n",
    "        self.terminal = False  \n",
    "        self.transaction_cost_pct = transaction_cost_pct\n",
    "        self.train = train\n",
    "\n",
    "        # portfolio value    \n",
    "        self.initial_amount = initial_amount\n",
    "        self.portfolio_value = self.initial_amount \n",
    "        self.trans_cost = 0\n",
    "        \n",
    "        # dimensions\n",
    "        self.stock_dim = stock_dim\n",
    "        self.state_dim = state_dim\n",
    "        self.action_dim = action_dim\n",
    "        self.features_dim = features_dim\n",
    "        \n",
    "        # spaces\n",
    "        self.state_space = self.state_dim\n",
    "        self.action_space = spaces.Box(low = 0, high = 1,shape = (self.action_dim,)) \n",
    "        self.observation_space = spaces.Box(low=-np.inf, high=np.inf, shape = (self.period , self.state_dim))\n",
    "\n",
    "        # data\n",
    "        self.df = df\n",
    "        self.n_df = self.normalization(df)\n",
    "        self.data = self.df.loc[self.day+1:self.day+self.period,:]\n",
    "        self.n_data = self.n_df.loc[self.day:self.day+self.period-1,:]\n",
    "        self.last_data = self.data\n",
    "\n",
    "        # state\n",
    "        self.state = self.n_data.iloc[:,1:]\n",
    "        weights = [0.1 for i in range(self.action_dim)]\n",
    "        self.last_weight = weights\n",
    "        self.actions_memory = [weights]\n",
    "        self.date_memory=[self.data.date.values[-1]] \n",
    "        self.last_reward = []\n",
    "\n",
    "        \n",
    "    def step(self, actions):\n",
    "\n",
    "        self.terminal = self.day >= len(self.df.index.unique())-1\n",
    "\n",
    "        if self.terminal:\n",
    "            \n",
    "            return self.state, self.reward, self.terminal,{}\n",
    "\n",
    "        else:\n",
    "            \n",
    "            if len(self.data) > 0:\n",
    "                # get actions\n",
    "                new_weight = self.softmax_normalization(actions)\n",
    "                if sum(new_weight[6:9]) > 0.75:\n",
    "                    new_weight[6:9] /= 2\n",
    "                    new_weight = self.softmax_normalization(actions)\n",
    "\n",
    "                # get weights\n",
    "                last_weight = self.last_weight\n",
    "                change = [1 for row in range(self.stock_dim)]\n",
    "                for row in range(len(self.data)-1):\n",
    "                    change *= (1+self.data.iloc[-1,1:self.stock_dim+1].values)\n",
    "\n",
    "                if sum(change * self.last_weight) > 0:\n",
    "                    self.portfolio_value *= sum(change*last_weight)\n",
    "                    last_weight = (self.last_weight * change) / sum(self.last_weight * change)\n",
    "\n",
    "                # transition cost\n",
    "                action_changes = new_weight - last_weight\n",
    "                action_1 = [a if a > 0 else 0 for a in action_changes]\n",
    "                action_2 = [a if a < 0 else 0 for a in action_changes]\n",
    "                action_1 = np.clip(action_changes, 0.005, 0.025)\n",
    "                action_2 = np.clip(action_changes, -0.025, -0.005)\n",
    "\n",
    "                action_changes = []\n",
    "                for i in range(len(action_1)):\n",
    "                    action_changes.append(action_1[i] + action_2[i])\n",
    "                action_changes = np.array(action_changes)\n",
    "                new_weight = last_weight + action_changes\n",
    "                new_weight /= sum(new_weight)\n",
    "\n",
    "                trans_cost = sum(abs(action_changes * self.transaction_cost_pct)) * self.portfolio_value\n",
    "                self.trans_cost += trans_cost\n",
    "\n",
    "                # Marginal reward\n",
    "                portfolio_return = sum(self.data.iloc[-1,1:1+self.stock_dim].values * new_weight) * self.portfolio_value\n",
    "    #             self.reward = portfolio_return / self.portfolio_value * 1000 \n",
    "\n",
    "                # last 10 reward\n",
    "                if len(self.last_reward) == 10:\n",
    "                    self.last_reward = self.last_reward[1:9]\n",
    "                    self.last_reward.append(portfolio_return)\n",
    "                else:\n",
    "                    self.last_reward.append(portfolio_return)\n",
    "\n",
    "                if np.array(self.last_reward).std() > 0:\n",
    "                    self.reward = (252**0.5) * np.array(self.last_reward).mean() / np.array(self.last_reward).std() \n",
    "                else:\n",
    "                    self.reward = 0\n",
    "\n",
    "                # one step\n",
    "                self.day = min(len(self.df.index.unique())-1, self.day + self.period)\n",
    "                self.data = self.df.loc[self.day+1:self.day+self.period,:]\n",
    "                self.n_data = self.n_df.loc[self.day:self.day+self.period-1,:]\n",
    "\n",
    "                # new state \n",
    "                self.state = self.n_data.iloc[:,1:]\n",
    "\n",
    "                while len(self.state) < self.period:\n",
    "                    padding = [0.0 for i in range(self.state_dim)]\n",
    "                    self.state = np.append(self.state, [padding], axis=0)\n",
    "\n",
    "                if sum(change * new_weight) > 0:\n",
    "                    self.last_weight = (change * new_weight) / sum(change * new_weight)\n",
    "\n",
    "                # Total reward\n",
    "                self.portfolio_value += portfolio_return\n",
    "                self.asset = self.portfolio_value - self.trans_cost\n",
    "\n",
    "                # saving memories\n",
    "                if self.day < len(self.df.index.unique()) - 1:\n",
    "                    if len(self.data) > 0:\n",
    "                        self.actions_memory.append(new_weight)\n",
    "                        self.date_memory.append(self.data.date.values[-1]) \n",
    "                else:\n",
    "                    pass\n",
    "\n",
    "        return self.state, self.reward, self.terminal, {}\n",
    "\n",
    "    def reset(self):\n",
    "        \n",
    "        # setting\n",
    "        self.day = 0\n",
    "        self.terminal = False \n",
    "        \n",
    "        # portfolio value\n",
    "        self.portfolio_value = self.initial_amount\n",
    "        self.trans_cost = 0\n",
    "\n",
    "        # data\n",
    "        self.data = self.df.loc[self.day+1:self.day+self.period,:]\n",
    "        self.n_data = self.n_df.loc[self.day:self.day+self.period-1,:]\n",
    "        self.last_data = self.data\n",
    "        \n",
    "        # state\n",
    "        self.state = self.n_data.iloc[:,1:]\n",
    "        weights = [0.1 for i in range(self.action_dim)]\n",
    "        self.last_weight = weights\n",
    "        self.actions_memory = [weights]\n",
    "        self.date_memory=[self.data.date.values[-1]] \n",
    "        self.last_reward = []\n",
    "        \n",
    "        return self.state\n",
    "\n",
    "    def normalization(self, df):\n",
    "        df2 = df.copy(deep=True)\n",
    "        for i in range(1,self.features_dim+1):\n",
    "            df2.iloc[:,10*(i-1)+1:10*i+1] = (df2.iloc[:,10*(i-1)+1:10*i+1] - df2.iloc[:,10*(i-1)+1:10*i+1].mean().mean()) / df2.iloc[:,10*(i-1)+1:10*i+1].std().std() \n",
    "\n",
    "        return df2\n",
    "\n",
    "    def softmax_normalization(self, actions):\n",
    "        \n",
    "        softmax_output = softmax(actions)\n",
    "        \n",
    "        return softmax_output\n",
    "\n",
    "    def save_action_memory(self):\n",
    "\n",
    "        date_list = self.date_memory\n",
    "        df_date = pd.DataFrame(date_list)\n",
    "        df_date.columns = ['date']\n",
    "\n",
    "        action_list = self.actions_memory\n",
    "        df_actions = pd.DataFrame(action_list)\n",
    "        df_actions.columns = self.key\n",
    "        df_actions.index = df_date.date\n",
    "\n",
    "        return df_actions\n",
    "\n",
    "    def _seed(self, seed=None):\n",
    "        self.np_random, seed = seeding.np_random(seed)\n",
    "        return [seed]\n",
    "\n",
    "    def get_sb_env(self):\n",
    "        e = DummyVecEnv([lambda: self])\n",
    "        obs = e.reset()\n",
    "        return e, obs"
   ]
  },
  {
   "cell_type": "code",
   "execution_count": null,
   "metadata": {
    "colab": {
     "base_uri": "https://localhost:8080/"
    },
    "id": "MzD06X0CbU43",
    "outputId": "440db18e-ec80-4d5d-fed8-9e446ac4389d"
   },
   "outputs": [],
   "source": [
    "stock_dimension = 10\n",
    "state_dimension = len(train.columns) - 1\n",
    "feature_dimension = state_dimension // stock_dimension\n",
    "action_dimension = stock_dimension\n",
    "period = 5\n",
    "print(f\"Stock Dimension: {stock_dimension}, State Dimension: {state_dimension}, Action Dimension: {action_dimension}, Feature Dimension: {feature_dimension}\")"
   ]
  },
  {
   "cell_type": "code",
   "execution_count": null,
   "metadata": {
    "id": "jyg0_ZuVEVQ5"
   },
   "outputs": [],
   "source": [
    "env_kwargs = {\n",
    "    \"initial_amount\": 1000000, \n",
    "    \"transaction_cost_pct\": rk, \n",
    "    \"state_dim\": state_dimension,\n",
    "    \"stock_dim\": stock_dimension, \n",
    "    \"action_dim\": action_dimension, \n",
    "    \"features_dim\": feature_dimension,\n",
    "    \"train\": True,\n",
    "    \"key\": key,\n",
    "    \"period\": period\n",
    "}\n",
    "\n",
    "e_train_gym = StockPortfolioEnv(df = train, mdd = train_mdd, **env_kwargs)"
   ]
  },
  {
   "cell_type": "code",
   "execution_count": null,
   "metadata": {
    "colab": {
     "base_uri": "https://localhost:8080/"
    },
    "id": "HTlOf8SJGdkl",
    "outputId": "9f6144ad-3580-444c-b93f-e03465a7fb54"
   },
   "outputs": [],
   "source": [
    "env_train, _ = e_train_gym.get_sb_env()\n",
    "print(type(env_train))"
   ]
  },
  {
   "cell_type": "markdown",
   "metadata": {
    "id": "cqYebSYvKAIM"
   },
   "source": [
    "### Validation"
   ]
  },
  {
   "cell_type": "code",
   "execution_count": null,
   "metadata": {
    "id": "CGbIPRbTDzju"
   },
   "outputs": [],
   "source": [
    "val_env_kwargs = {\n",
    "    \"initial_amount\": 1000000, \n",
    "    \"transaction_cost_pct\": rk, \n",
    "    \"state_dim\": state_dimension,\n",
    "    \"stock_dim\": stock_dimension, \n",
    "    \"action_dim\": action_dimension, \n",
    "    \"features_dim\": feature_dimension,\n",
    "    \"key\": key,\n",
    "    \"train\": False,\n",
    "    \"period\": period\n",
    "}"
   ]
  },
  {
   "cell_type": "code",
   "execution_count": null,
   "metadata": {
    "id": "fCu3HiC4D4Er"
   },
   "outputs": [],
   "source": [
    "validation = StockPortfolioEnv(df = valid, mdd = valid_mdd, **val_env_kwargs)"
   ]
  },
  {
   "cell_type": "code",
   "execution_count": null,
   "metadata": {
    "id": "tEG9RwFcD48j"
   },
   "outputs": [],
   "source": [
    "def prediction(model, environment):\n",
    "\n",
    "    actions_memory = []\n",
    "\n",
    "    valid_env, _ = environment.get_sb_env()\n",
    "    valid_obs = valid_env.reset()\n",
    "    for i in range(len(environment.df.index.unique()-1)):\n",
    "        action, _states = model.predict(valid_obs, deterministic=True)\n",
    "        valid_obs, rewards, dones, info = valid_env.step(action)\n",
    "\n",
    "        if i == (len(environment.df.index.unique()) - 2):\n",
    "            actions_memory = valid_env.env_method(method_name=\"save_action_memory\")\n",
    "\n",
    "    return actions_memory[0]"
   ]
  },
  {
   "cell_type": "markdown",
   "metadata": {},
   "source": [
    "# Calculate profit"
   ]
  },
  {
   "cell_type": "code",
   "execution_count": null,
   "metadata": {},
   "outputs": [],
   "source": [
    "def calculate_profit_train(pct, act):\n",
    "    \n",
    "    risk = [0.01, 0.01, 0.02, 0.02, 0.01, 0.02, 0.01, 0.01, 0.01, 0.02]\n",
    "    act = act.reset_index()\n",
    "    act = pd.merge(pct.iloc[:,:1], act, on=\"date\", how='outer')\n",
    "    act = act.fillna(0.0)\n",
    "    \n",
    "    initail_amount = 1000000\n",
    "    total_trans_cost = 0\n",
    "    last_act = [0.0 for i in range(10)]\n",
    "\n",
    "    for i, p in enumerate(pct.iterrows()):\n",
    "        \n",
    "#         if i > 0:\n",
    "        if sum(act.iloc[i,1:].values) == 0:\n",
    "            a = last_act\n",
    "            trans_cost = 0\n",
    "        else:\n",
    "            a = act.iloc[i,1:].values \n",
    "            trans_cost = sum(abs(a - last_act) * initail_amount * risk)\n",
    "\n",
    "        if sum(last_act) > 0:\n",
    "            initail_amount = sum((a * initail_amount) * (pct.iloc[i,1:].values + 1)) - trans_cost\n",
    "\n",
    "        if sum(a) > 0:\n",
    "            last_act = (a  * (pct.iloc[i,1:].values  + 1)) * initail_amount / sum((a * (pct.iloc[i,1:].values + 1)) * initail_amount)\n",
    "\n",
    "        total_trans_cost += trans_cost\n",
    "        \n",
    "    return initail_amount, total_trans_cost"
   ]
  },
  {
   "cell_type": "code",
   "execution_count": null,
   "metadata": {},
   "outputs": [],
   "source": [
    "tmp = df[df.date >= \"2018-01-01\"]\n",
    "tmp = tmp[tmp.date < \"2019-01-01\"]\n",
    "tmp.iloc[:,1:] = tmp.iloc[:,1:].pct_change(periods=1)\n",
    "tmp = tmp.fillna(0.0)\n",
    "tmp.iloc[:,0] = pd.to_datetime(tmp.iloc[:,0])"
   ]
  },
  {
   "cell_type": "markdown",
   "metadata": {
    "id": "2eKIu5UPlPnk"
   },
   "source": [
    "# Implement DRL Algorithms"
   ]
  },
  {
   "cell_type": "code",
   "execution_count": null,
   "metadata": {
    "id": "TbX_HmA87Rmd"
   },
   "outputs": [],
   "source": [
    "from stable_baselines3.common.noise import NormalActionNoise, OrnsteinUhlenbeckActionNoise"
   ]
  },
  {
   "cell_type": "code",
   "execution_count": null,
   "metadata": {
    "id": "ixZvecp-7hpo"
   },
   "outputs": [],
   "source": [
    "action_noise = OrnsteinUhlenbeckActionNoise(mean=np.zeros(action_dimension), sigma=0.1 * np.ones(action_dimension))"
   ]
  },
  {
   "cell_type": "code",
   "execution_count": null,
   "metadata": {
    "id": "Wa2tY0oVgnp6"
   },
   "outputs": [],
   "source": [
    "model = DDPG(\"MlpPolicy\", env_train, action_noise=action_noise, verbose = 0, buffer_size = 100, tau = 0.001, learning_rate = 0.00025, batch_size=100)"
   ]
  },
  {
   "cell_type": "code",
   "execution_count": null,
   "metadata": {
    "colab": {
     "base_uri": "https://localhost:8080/"
    },
    "id": "2vwlD3Q1wjAC",
    "outputId": "bf9b87cf-1530-492f-8cd9-4b7ff090a1fc",
    "scrolled": true,
    "tags": []
   },
   "outputs": [],
   "source": [
    "last = 0\n",
    "\n",
    "for epoch in range(10):\n",
    "    model = model.learn(total_timesteps = training_iterations)\n",
    "    df_act = prediction(model = model, environment = validation)\n",
    "    value, cost = calculate_profit_train(tmp, df_act)\n",
    "    print(\"=================================\")\n",
    "    print(\"Epoch:\", epoch, \"=> Validation Return:\", value, \", Transaction cost:\", cost)\n",
    "    print(\"=================================\")\n",
    "\n",
    "    if value > last:\n",
    "        last = value\n",
    "        model.save(\"./model/model10\")"
   ]
  },
  {
   "cell_type": "markdown",
   "metadata": {
    "id": "E2Ma6YpTlnuZ"
   },
   "source": [
    "# Trading"
   ]
  },
  {
   "cell_type": "code",
   "execution_count": null,
   "metadata": {
    "id": "Dxkztptlbk3q"
   },
   "outputs": [],
   "source": [
    "test_env_kwargs = {\n",
    "    \"initial_amount\": 1000000, \n",
    "    \"transaction_cost_pct\": rk, \n",
    "    \"state_dim\": state_dimension,\n",
    "    \"stock_dim\": stock_dimension, \n",
    "    \"action_dim\": action_dimension, \n",
    "    \"features_dim\": feature_dimension,\n",
    "    \"key\": key,\n",
    "    \"train\": False,\n",
    "    \"period\": period\n",
    "}"
   ]
  },
  {
   "cell_type": "code",
   "execution_count": null,
   "metadata": {
    "id": "uas8U6k455sI"
   },
   "outputs": [],
   "source": [
    "trade = StockPortfolioEnv(df = test, mdd = test_mdd, **test_env_kwargs)"
   ]
  },
  {
   "cell_type": "code",
   "execution_count": null,
   "metadata": {
    "id": "xO7OlLKpHI9k"
   },
   "outputs": [],
   "source": [
    "test_model = DDPG.load(\"./model/model10\", trade)"
   ]
  },
  {
   "cell_type": "code",
   "execution_count": null,
   "metadata": {
    "id": "d-rj5QROPktN"
   },
   "outputs": [],
   "source": [
    "def test_prediction(model, environment):\n",
    "    \n",
    "    actions_memory = []\n",
    "\n",
    "    test_env, _ = environment.get_sb_env()\n",
    "    test_obs = test_env.reset()\n",
    "    for i in range(len(environment.df.index.unique())):\n",
    "        \n",
    "        action, _states = model.predict(test_obs, deterministic=True)\n",
    "        test_obs, rewards, dones, info = test_env.step(action)\n",
    "\n",
    "        if i == (len(environment.df.index.unique()) - 2):\n",
    "            actions_memory = test_env.env_method(method_name=\"save_action_memory\")\n",
    "\n",
    "    return actions_memory[0]"
   ]
  },
  {
   "cell_type": "code",
   "execution_count": null,
   "metadata": {
    "id": "Qq4W9FbSstT7",
    "scrolled": true
   },
   "outputs": [],
   "source": [
    "df_actions = test_prediction(model = test_model, environment = trade)"
   ]
  },
  {
   "cell_type": "code",
   "execution_count": null,
   "metadata": {
    "id": "YTtdCOM3neBd",
    "scrolled": true
   },
   "outputs": [],
   "source": [
    "df_actions.to_csv(\"./result5.csv\")\n",
    "df_actions = df_actions*100\n",
    "df_actions.round()"
   ]
  },
  {
   "cell_type": "code",
   "execution_count": null,
   "metadata": {},
   "outputs": [],
   "source": [
    "tmp = df2\n",
    "tmp.iloc[:,1:] = tmp.iloc[:,1:].pct_change(periods=1)\n",
    "tmp = tmp.fillna(0.0)\n",
    "tmp.iloc[:,0] = pd.to_datetime(tmp.iloc[:,0] )"
   ]
  },
  {
   "cell_type": "code",
   "execution_count": null,
   "metadata": {},
   "outputs": [],
   "source": [
    "def calculate_profit(pct, act):\n",
    "    \n",
    "    asset = []\n",
    "    risk = [0.01, 0.01, 0.02, 0.02, 0.01, 0.02, 0.01, 0.01, 0.01, 0.02]\n",
    "    act = act.reset_index()\n",
    "    act = pd.merge(pct.iloc[:,:1], act, on=\"date\", how='outer')\n",
    "    act = act.fillna(0.0)\n",
    "    \n",
    "    initial_amount = 1000000\n",
    "    last_act = [0.0 for i in range(10)]\n",
    "    total_trans_cost = 0\n",
    "\n",
    "    for i, p in enumerate(pct.iterrows()):\n",
    "        \n",
    "        if i > 0:\n",
    "            if sum(act.iloc[i,1:].values) == 0:\n",
    "                a = last_act\n",
    "                trans_cost = 0\n",
    "            else:\n",
    "                a = act.iloc[i,1:].values / 100\n",
    "                trans_cost = sum(abs(a - last_act) * initial_amount * risk)\n",
    "                \n",
    "            if sum(last_act) > 0:\n",
    "                initial_amount = sum((a * initial_amount) * (pct.iloc[i,1:].values + 1)) - trans_cost\n",
    "            \n",
    "            if sum(a) > 0:\n",
    "                last_act = (a  * (pct.iloc[i,1:].values  + 1)) * initial_amount / sum((a * (pct.iloc[i,1:].values + 1)) * initial_amount)\n",
    "        \n",
    "            total_trans_cost += trans_cost\n",
    "            \n",
    "        asset.append(initial_amount)\n",
    "        \n",
    "    print(initial_amount)    \n",
    "    return asset, total_trans_cost"
   ]
  },
  {
   "cell_type": "code",
   "execution_count": null,
   "metadata": {},
   "outputs": [],
   "source": [
    "asset, cost = calculate_profit(tmp, df_actions)"
   ]
  },
  {
   "cell_type": "code",
   "execution_count": null,
   "metadata": {},
   "outputs": [],
   "source": [
    "cost"
   ]
  },
  {
   "cell_type": "markdown",
   "metadata": {
    "id": "mVqwkiHwwjAD"
   },
   "source": [
    "# Plot"
   ]
  },
  {
   "cell_type": "code",
   "execution_count": null,
   "metadata": {},
   "outputs": [],
   "source": [
    "times = df2[[\"date\"]].values"
   ]
  },
  {
   "cell_type": "code",
   "execution_count": null,
   "metadata": {
    "id": "FOG763sSwjAE"
   },
   "outputs": [],
   "source": [
    "def sequence_data(data, t):\n",
    "        \n",
    "    return t, data"
   ]
  },
  {
   "cell_type": "code",
   "execution_count": null,
   "metadata": {
    "id": "SSOYNv3BwjAE"
   },
   "outputs": [],
   "source": [
    "%matplotlib inline\n",
    "def plot(asset, times, save=False):\n",
    "    time, data = sequence_data(asset, times)\n",
    "    \n",
    "    fig, ax = plt.subplots(figsize=(36, 6))\n",
    "    plt.xticks(rotation=90)\n",
    "    ax.plot(time, data, label=\"ddpg\")\n",
    "    plt.grid(b='on')\n",
    "    \n",
    "    if save:\n",
    "        fig.savefig(\"pic5.png\", bbox_inches='tight')"
   ]
  },
  {
   "cell_type": "code",
   "execution_count": null,
   "metadata": {
    "id": "QxetpBDMwjAE"
   },
   "outputs": [],
   "source": [
    "plot(asset, times, save=True)"
   ]
  },
  {
   "cell_type": "code",
   "execution_count": null,
   "metadata": {},
   "outputs": [],
   "source": []
  }
 ],
 "metadata": {
  "accelerator": "GPU",
  "colab": {
   "collapsed_sections": [],
   "name": "DRL Project.ipynb",
   "provenance": []
  },
  "kernelspec": {
   "display_name": "Python 3",
   "language": "python",
   "name": "python3"
  },
  "language_info": {
   "codemirror_mode": {
    "name": "ipython",
    "version": 3
   },
   "file_extension": ".py",
   "mimetype": "text/x-python",
   "name": "python",
   "nbconvert_exporter": "python",
   "pygments_lexer": "ipython3",
   "version": "3.6.10"
  }
 },
 "nbformat": 4,
 "nbformat_minor": 4
}
