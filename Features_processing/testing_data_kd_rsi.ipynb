{
 "cells": [
  {
   "cell_type": "code",
   "execution_count": null,
   "id": "41572c43",
   "metadata": {},
   "outputs": [],
   "source": [
    "import pandas as pd\n",
    "df = pd.read_csv('testing_data.csv')\n",
    "df"
   ]
  },
  {
   "cell_type": "code",
   "execution_count": null,
   "id": "9c7ab505",
   "metadata": {},
   "outputs": [],
   "source": [
    "df = df.fillna(method='ffill').set_index('date')\n"
   ]
  },
  {
   "cell_type": "code",
   "execution_count": null,
   "id": "ed34f0ae",
   "metadata": {
    "scrolled": true
   },
   "outputs": [],
   "source": [
    "# create rsv\n",
    "rsv = (df - df.rolling(window=9).min())/(df.rolling(window=9).max()- df.rolling(window=9).min())*100"
   ]
  },
  {
   "cell_type": "code",
   "execution_count": null,
   "id": "b2be22a5",
   "metadata": {
    "scrolled": true
   },
   "outputs": [],
   "source": [
    "rsv = rsv.fillna(0)\n"
   ]
  },
  {
   "cell_type": "code",
   "execution_count": null,
   "id": "58b7a798",
   "metadata": {
    "scrolled": true
   },
   "outputs": [],
   "source": [
    "# create K dataframe\n",
    "# K = 2/3 X (昨日K值) + 1/3 X (今日RSV)\n",
    "k_list=[]\n",
    "k = 50\n",
    "\n",
    "for i in range(0,len(rsv.index)):\n",
    "    if i<=7:\n",
    "        k_list.append(np.full(shape=10,fill_value=50,dtype=np.int))\n",
    "    else:\n",
    "        k = (2/3)*k + (1/3)*rsv.values[i,:]\n",
    "        k_list.append(k)\n",
    "\n",
    "k_df = pd.DataFrame(k_list, columns=df.columns, index=df.index)\n",
    "k_df"
   ]
  },
  {
   "cell_type": "code",
   "execution_count": null,
   "id": "ce09098b",
   "metadata": {
    "scrolled": true
   },
   "outputs": [],
   "source": [
    "# create D dataframe\n",
    "# D = 2/3 X (昨日D值) + 1/3 X (今日K值)\n",
    "d_list=[]\n",
    "d = 50\n",
    "\n",
    "for i in range(0,len(k_df.index)):\n",
    "    if i<=7:\n",
    "        d_list.append(np.full(shape=10,fill_value=50,dtype=np.int))\n",
    "    else:\n",
    "        d = (2/3)*d + (1/3)*k_df.values[i,:]\n",
    "        d_list.append(d)\n",
    "\n",
    "d_df = pd.DataFrame(d_list, columns=df.columns, index=df.index)\n",
    "d_df"
   ]
  },
  {
   "cell_type": "code",
   "execution_count": null,
   "id": "7e4cac5a",
   "metadata": {},
   "outputs": [],
   "source": [
    "#rsi\n",
    "temp = df-df.shift(1)\n",
    "temp"
   ]
  },
  {
   "cell_type": "code",
   "execution_count": null,
   "id": "c6bbd1f4",
   "metadata": {},
   "outputs": [],
   "source": [
    "rsi_pos = temp[temp>0].fillna(0)\n",
    "rsi_neg = -temp[temp<0].fillna(0)\n",
    "\n",
    "# create RSI(相對強弱指標):以12天為基準\n",
    "# RSI = (前N日漲幅平均值/(前N日漲幅平均值+前N日跌幅平均值))×100\n",
    "up_mean_12 = []\n",
    "down_mean_12 = []\n",
    "for i in range(13,len(df)+1):\n",
    "    up_mean_12.append(rsi_pos.values[i-12:i].mean(axis=0))\n",
    "    down_mean_12.append(rsi_neg.values[i-12:i].mean(axis=0))\n",
    "    \n",
    "rsi_list = []\n",
    "for i in range(len(up_mean_12)):\n",
    "    rsi_list.append(100*up_mean_12[i] / (up_mean_12[i]+down_mean_12[i]))\n",
    "\n",
    "rsi_df = pd.DataFrame(rsi_list, columns=df.columns)\n",
    "rsi_df"
   ]
  },
  {
   "cell_type": "code",
   "execution_count": null,
   "id": "05d410d5",
   "metadata": {},
   "outputs": [],
   "source": [
    "a = np.empty((12,10,))\n",
    "a[:] = np.nan\n",
    "a = pd.DataFrame(a,columns=df.columns)\n",
    "\n",
    "rsi_combine = pd.concat([a,rsi_df])\n",
    "rsi_combine.index =[df.index]\n",
    "rsi_combine = rsi_combine.fillna(0)\n",
    "rsi_combine"
   ]
  },
  {
   "cell_type": "code",
   "execution_count": null,
   "id": "9f0758d3",
   "metadata": {},
   "outputs": [],
   "source": [
    "k_df.to_csv('test_k_value.csv')"
   ]
  },
  {
   "cell_type": "code",
   "execution_count": null,
   "id": "6f4ed8fa",
   "metadata": {},
   "outputs": [],
   "source": [
    "d_df.to_csv('test_d_value.csv')"
   ]
  },
  {
   "cell_type": "code",
   "execution_count": null,
   "id": "13efe0f4",
   "metadata": {},
   "outputs": [],
   "source": [
    "rsi_combine.to_csv('test_rsi_value.csv')"
   ]
  }
 ],
 "metadata": {
  "kernelspec": {
   "display_name": "Python 3",
   "language": "python",
   "name": "python3"
  },
  "language_info": {
   "codemirror_mode": {
    "name": "ipython",
    "version": 3
   },
   "file_extension": ".py",
   "mimetype": "text/x-python",
   "name": "python",
   "nbconvert_exporter": "python",
   "pygments_lexer": "ipython3",
   "version": "3.7.4"
  }
 },
 "nbformat": 4,
 "nbformat_minor": 5
}
